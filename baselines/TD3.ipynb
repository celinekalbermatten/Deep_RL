{
  "cells": [
    {
      "cell_type": "markdown",
      "metadata": {
        "id": "1Il1XSnjgFIK"
      },
      "source": [
        "# Proximal Policy Optimization (PPO) BASELINE\n",
        "---"
      ]
    },
    {
      "cell_type": "code",
      "execution_count": 7,
      "metadata": {
        "id": "bhW4cVvKgFIL"
      },
      "outputs": [],
      "source": [
        "import gymnasium\n",
        "import stable_baselines3\n",
        "from stable_baselines3 import PPO, SAC, TD3, DQN\n",
        "from stable_baselines3.common.env_util import make_vec_env\n",
        "from stable_baselines3.common.evaluation import evaluate_policy\n",
        "from stable_baselines3.common.callbacks import EvalCallback\n",
        "from stable_baselines3.common.vec_env import VecFrameStack, VecTransposeImage\n",
        "from stable_baselines3.common.vec_env import VecVideoRecorder\n",
        "\n",
        "import os\n",
        "import torch\n",
        "import numpy\n",
        "import scipy\n",
        "import platform\n",
        "import IPython\n",
        "import matplotlib\n",
        "import matplotlib.pyplot\n",
        "from importlib.metadata import version"
      ]
    },
    {
      "cell_type": "code",
      "execution_count": 8,
      "metadata": {},
      "outputs": [],
      "source": [
        "ENVS = [\"Pendulum\"] #\"CartPole-v0\", \"Acrobot-v1\"] #[Cartpole, MountainCar, MountainCarContinuous, Acrobot, Pendulum]\n",
        "ALGORITHM = TD3 #[PPO, SAC, TD3, DQN]\n",
        "ALGO_NAME = 'td3'"
      ]
    },
    {
      "cell_type": "code",
      "execution_count": 9,
      "metadata": {},
      "outputs": [],
      "source": [
        "def get_steps_and_eval_freq(ENV):\n",
        "    if \"CartPole\" in ENV :\n",
        "        #Max reward per episode: 500\n",
        "        #Episode ends if:\n",
        "        #Pole angle > 12°\n",
        "        #Cart position > 2.4 (off the screen)\n",
        "        #Or 500 timesteps passed\n",
        "        #0–50\t❌ Agent fails very early\n",
        "        #100–200\t🟡 Learning something\n",
        "        #>300\t🟢 Strong policy\n",
        "        #500\t🏆 Perfect — solved the task\n",
        "        # 30k is enough for ppo\n",
        "        \n",
        "        TOTAL_TIMESTEPS = 30000\n",
        "        EVAL_FREQUENCY = 1500\n",
        "        \n",
        "    elif \"MountainCar\" in ENV: # FOR PPO AND DQN\n",
        "        #-200.00: Agent fails every episode\n",
        "        #-130.00: Agent solves it in ~70 steps (good)\n",
        "        #-110.00: Agent performs very well\n",
        "\n",
        "        TOTAL_TIMESTEPS = 200_000\n",
        "        EVAL_FREQUENCY = 10_000\n",
        "    elif \"MountainCarContinuous\" in ENV:  # FOR SAC\n",
        "        ### NEEDS 300k-1M steps \n",
        "        #Reward\tMeaning\n",
        "        #~0\t🚫 Agent fails, takes timid or random actions\n",
        "        #-5 to -1\t🚫 Fails, wastes energy (more action → more penalty)\n",
        "        #50–100\t✅ Agent reaches the goal, uses good control\n",
        "        #~100\t🎯 Solved perfectly and efficiently\n",
        "        \n",
        "        \n",
        "        TOTAL_TIMESTEPS = 100000\n",
        "        EVAL_FREQUENCY = 5000\n",
        "    elif \"Acrobot\" in ENV:\n",
        "        #It's a 2-link pendulum system.\n",
        "        #The goal is to swing the end of the lower link above a certain height (essentially swing up).\n",
        "        #The agent applies torque at the joint between the links (discrete action space: [-1, 0, +1]).\n",
        "        #Episode ends if:\n",
        "        #The tip of the pendulum reaches a height ≥ 1.0 (i.e., swings up successfully)\n",
        "        #Or after 500 timesteps (max episode length)\n",
        "        \n",
        "        #-500\t❌ Agent failed (lasted full 500 steps, never solved)\n",
        "        #-150 to -400\t🟡 Improving, but still inefficient\n",
        "        #-100 to -200\t🟢 Agent swings up relatively quickly\n",
        "        #-50 to -100\t🔥 Excellent — solves early in the episode\n",
        "\n",
        "        #PPO\t200,000 – 500,000\n",
        "        #DQN\t500,000+ (tougher for DQN due to sparse reward)\n",
        "        \n",
        "        TOTAL_TIMESTEPS = 10000\n",
        "        EVAL_FREQUENCY = 1000\n",
        "    elif \"Pendulum\" in ENV:\n",
        "        #-200\t❌ Worst case (Agent doesn’t learn or takes no action)\n",
        "        #-150 to -100\t🟡 Learning but not yet great\n",
        "        #-50 to -100\t🟢 Good performance, agent controls pendulum well\n",
        "        #-10 to -50\t🔥 Excellent — near optimal control\n",
        "        #0 or above\t🌟 Perfect — solves task optimally\n",
        "\n",
        "        #PPO\t200,000 – 500,000\n",
        "        #SAC\t100,000 – 300,000\n",
        "        #TD3\t200,000 – 500,000\n",
        "\n",
        "        TOTAL_TIMESTEPS = 20000\n",
        "        EVAL_FREQUENCY = 5000\n",
        "    return TOTAL_TIMESTEPS, EVAL_FREQUENCY\n"
      ]
    },
    {
      "cell_type": "code",
      "execution_count": 10,
      "metadata": {
        "colab": {
          "base_uri": "https://localhost:8080/",
          "height": 965,
          "referenced_widgets": [
            "bfe70718bcb246328459b2fe73fea682",
            "30b92b1b07674e71b357aaba558e4131"
          ]
        },
        "id": "9bg639srE5fp",
        "outputId": "e3dfee21-6662-45d1-c52b-2dd13146879d"
      },
      "outputs": [
        {
          "name": "stderr",
          "output_type": "stream",
          "text": [
            "/opt/homebrew/anaconda3/lib/python3.11/site-packages/gymnasium/envs/registration.py:527: UserWarning: \u001b[33mWARN: Using the latest versioned environment `Pendulum-v1` instead of the unversioned environment `Pendulum`.\u001b[0m\n",
            "  logger.warn(\n"
          ]
        },
        {
          "data": {
            "application/vnd.jupyter.widget-view+json": {
              "model_id": "f00cf9b79ff14f75838cf134644eb9ed",
              "version_major": 2,
              "version_minor": 0
            },
            "text/plain": [
              "Output()"
            ]
          },
          "metadata": {},
          "output_type": "display_data"
        },
        {
          "data": {
            "text/html": [
              "<pre style=\"white-space:pre;overflow-x:auto;line-height:normal;font-family:Menlo,'DejaVu Sans Mono',consolas,'Courier New',monospace\">Eval num_timesteps=5000, episode_reward=-800.26 +/- 84.74\n",
              "</pre>\n"
            ],
            "text/plain": [
              "Eval num_timesteps=5000, episode_reward=-800.26 +/- 84.74\n"
            ]
          },
          "metadata": {},
          "output_type": "display_data"
        },
        {
          "data": {
            "text/html": [
              "<pre style=\"white-space:pre;overflow-x:auto;line-height:normal;font-family:Menlo,'DejaVu Sans Mono',consolas,'Courier New',monospace\">Episode length: 200.00 +/- 0.00\n",
              "</pre>\n"
            ],
            "text/plain": [
              "Episode length: 200.00 +/- 0.00\n"
            ]
          },
          "metadata": {},
          "output_type": "display_data"
        },
        {
          "data": {
            "text/html": [
              "<pre style=\"white-space:pre;overflow-x:auto;line-height:normal;font-family:Menlo,'DejaVu Sans Mono',consolas,'Courier New',monospace\">New best mean reward!\n",
              "</pre>\n"
            ],
            "text/plain": [
              "New best mean reward!\n"
            ]
          },
          "metadata": {},
          "output_type": "display_data"
        },
        {
          "data": {
            "text/html": [
              "<pre style=\"white-space:pre;overflow-x:auto;line-height:normal;font-family:Menlo,'DejaVu Sans Mono',consolas,'Courier New',monospace\">Eval num_timesteps=10000, episode_reward=-176.38 +/- 95.63\n",
              "</pre>\n"
            ],
            "text/plain": [
              "Eval num_timesteps=10000, episode_reward=-176.38 +/- 95.63\n"
            ]
          },
          "metadata": {},
          "output_type": "display_data"
        },
        {
          "data": {
            "text/html": [
              "<pre style=\"white-space:pre;overflow-x:auto;line-height:normal;font-family:Menlo,'DejaVu Sans Mono',consolas,'Courier New',monospace\">Episode length: 200.00 +/- 0.00\n",
              "</pre>\n"
            ],
            "text/plain": [
              "Episode length: 200.00 +/- 0.00\n"
            ]
          },
          "metadata": {},
          "output_type": "display_data"
        },
        {
          "data": {
            "text/html": [
              "<pre style=\"white-space:pre;overflow-x:auto;line-height:normal;font-family:Menlo,'DejaVu Sans Mono',consolas,'Courier New',monospace\">New best mean reward!\n",
              "</pre>\n"
            ],
            "text/plain": [
              "New best mean reward!\n"
            ]
          },
          "metadata": {},
          "output_type": "display_data"
        },
        {
          "data": {
            "text/html": [
              "<pre style=\"white-space:pre;overflow-x:auto;line-height:normal;font-family:Menlo,'DejaVu Sans Mono',consolas,'Courier New',monospace\">Eval num_timesteps=15000, episode_reward=-132.83 +/- 84.69\n",
              "</pre>\n"
            ],
            "text/plain": [
              "Eval num_timesteps=15000, episode_reward=-132.83 +/- 84.69\n"
            ]
          },
          "metadata": {},
          "output_type": "display_data"
        },
        {
          "data": {
            "text/html": [
              "<pre style=\"white-space:pre;overflow-x:auto;line-height:normal;font-family:Menlo,'DejaVu Sans Mono',consolas,'Courier New',monospace\">Episode length: 200.00 +/- 0.00\n",
              "</pre>\n"
            ],
            "text/plain": [
              "Episode length: 200.00 +/- 0.00\n"
            ]
          },
          "metadata": {},
          "output_type": "display_data"
        },
        {
          "data": {
            "text/html": [
              "<pre style=\"white-space:pre;overflow-x:auto;line-height:normal;font-family:Menlo,'DejaVu Sans Mono',consolas,'Courier New',monospace\">New best mean reward!\n",
              "</pre>\n"
            ],
            "text/plain": [
              "New best mean reward!\n"
            ]
          },
          "metadata": {},
          "output_type": "display_data"
        },
        {
          "data": {
            "text/html": [
              "<pre style=\"white-space:pre;overflow-x:auto;line-height:normal;font-family:Menlo,'DejaVu Sans Mono',consolas,'Courier New',monospace\">Eval num_timesteps=20000, episode_reward=-129.80 +/- 85.30\n",
              "</pre>\n"
            ],
            "text/plain": [
              "Eval num_timesteps=20000, episode_reward=-129.80 +/- 85.30\n"
            ]
          },
          "metadata": {},
          "output_type": "display_data"
        },
        {
          "data": {
            "text/html": [
              "<pre style=\"white-space:pre;overflow-x:auto;line-height:normal;font-family:Menlo,'DejaVu Sans Mono',consolas,'Courier New',monospace\">Episode length: 200.00 +/- 0.00\n",
              "</pre>\n"
            ],
            "text/plain": [
              "Episode length: 200.00 +/- 0.00\n"
            ]
          },
          "metadata": {},
          "output_type": "display_data"
        },
        {
          "data": {
            "text/html": [
              "<pre style=\"white-space:pre;overflow-x:auto;line-height:normal;font-family:Menlo,'DejaVu Sans Mono',consolas,'Courier New',monospace\">New best mean reward!\n",
              "</pre>\n"
            ],
            "text/plain": [
              "New best mean reward!\n"
            ]
          },
          "metadata": {},
          "output_type": "display_data"
        },
        {
          "data": {
            "text/html": [
              "<pre style=\"white-space:pre;overflow-x:auto;line-height:normal;font-family:Menlo,'DejaVu Sans Mono',consolas,'Courier New',monospace\"></pre>\n"
            ],
            "text/plain": []
          },
          "metadata": {},
          "output_type": "display_data"
        },
        {
          "data": {
            "text/html": [
              "<pre style=\"white-space:pre;overflow-x:auto;line-height:normal;font-family:Menlo,'DejaVu Sans Mono',consolas,'Courier New',monospace\">\n",
              "</pre>\n"
            ],
            "text/plain": [
              "\n"
            ]
          },
          "metadata": {},
          "output_type": "display_data"
        },
        {
          "name": "stderr",
          "output_type": "stream",
          "text": [
            "/opt/homebrew/anaconda3/lib/python3.11/site-packages/stable_baselines3/common/evaluation.py:67: UserWarning: Evaluation environment is not wrapped with a ``Monitor`` wrapper. This may result in reporting modified episode lengths and rewards, if other wrappers happen to modify these. Consider wrapping environment first with ``Monitor`` wrapper.\n",
            "  warnings.warn(\n"
          ]
        },
        {
          "name": "stdout",
          "output_type": "stream",
          "text": [
            "Mean reward: -116.16 +/- 82.58\n"
          ]
        },
        {
          "data": {
            "image/png": "[encoded data removed]",
            "text/plain": [
              "<Figure size 640x480 with 1 Axes>"
            ]
          },
          "metadata": {},
          "output_type": "display_data"
        },
        {
          "name": "stderr",
          "output_type": "stream",
          "text": [
            "/opt/homebrew/anaconda3/lib/python3.11/site-packages/gymnasium/envs/registration.py:527: UserWarning: \u001b[33mWARN: Using the latest versioned environment `Pendulum-v1` instead of the unversioned environment `Pendulum`.\u001b[0m\n",
            "  logger.warn(\n"
          ]
        },
        {
          "name": "stdout",
          "output_type": "stream",
          "text": [
            "Best Model - Mean reward: -145.49 +/- 83.52\n",
            "MoviePy - Building video /Users/lucamouchel/epfl/Reinforcement learning/project/Deep_RL/baselines/videos/best_model_td3_Pendulum-step-0-to-step-20000.mp4.\n",
            "MoviePy - Writing video /Users/lucamouchel/epfl/Reinforcement learning/project/Deep_RL/baselines/videos/best_model_td3_Pendulum-step-0-to-step-20000.mp4\n",
            "\n"
          ]
        },
        {
          "name": "stderr",
          "output_type": "stream",
          "text": [
            "                                                                          "
          ]
        },
        {
          "name": "stdout",
          "output_type": "stream",
          "text": [
            "MoviePy - Done !\n",
            "MoviePy - video ready /Users/lucamouchel/epfl/Reinforcement learning/project/Deep_RL/baselines/videos/best_model_td3_Pendulum-step-0-to-step-20000.mp4\n"
          ]
        },
        {
          "name": "stderr",
          "output_type": "stream",
          "text": [
            "\r"
          ]
        }
      ],
      "source": [
        "for ENV in ENVS:\n",
        "    log_dir = f\"./logs/{ALGO_NAME}/{ENV}/\"\n",
        "\n",
        "    #Create Training Environment\n",
        "    TOTAL_TIMESTEPS, EVAL_FREQUENCY = get_steps_and_eval_freq(ENV)\n",
        "    env = gymnasium.make(ENV)\n",
        "    \n",
        "    \n",
        "    #Create Elevation Environment\n",
        "    env_val = make_vec_env(ENV, n_envs=1)\n",
        "\n",
        "    eval_callback = EvalCallback(env_val,\n",
        "                                best_model_save_path=log_dir,\n",
        "                                log_path=log_dir,\n",
        "                                eval_freq=EVAL_FREQUENCY,\n",
        "                                render=False,\n",
        "                                deterministic=True,\n",
        "                                n_eval_episodes=20,)\n",
        "\n",
        "\n",
        "    model = ALGORITHM('MlpPolicy', env, verbose=0)\n",
        "\n",
        "    # Train the model\n",
        "    model.learn(total_timesteps=TOTAL_TIMESTEPS,\n",
        "                progress_bar=True,\n",
        "                callback=eval_callback, \n",
        "                log_interval=5)\n",
        "\n",
        "    # Save the model\n",
        "    model.save(os.path.join(log_dir, f\"_{ALGO_NAME}_{ENV}\"))\n",
        "\n",
        "    mean_reward, std_reward = evaluate_policy(model, env, n_eval_episodes=30)\n",
        "    print(f\"Mean reward: {mean_reward:.2f} +/- {std_reward:.2f}\")\n",
        "\n",
        "    env.close()\n",
        "    env_val.close()\n",
        "\n",
        "    # Load the evaluations.npz file\n",
        "    data = numpy.load(os.path.join(log_dir, \"evaluations.npz\"))\n",
        "\n",
        "    # Extract the relevant data\n",
        "    timesteps = data['timesteps']\n",
        "    results = data['results']\n",
        "\n",
        "    # Calculate the mean and standard deviation of the results\n",
        "    mean_results = numpy.mean(results, axis=1)\n",
        "    std_results = numpy.std(results, axis=1)\n",
        "\n",
        "    # Plot the results\n",
        "    matplotlib.pyplot.figure()\n",
        "    matplotlib.pyplot.plot(timesteps, mean_results)\n",
        "    matplotlib.pyplot.fill_between(timesteps,\n",
        "                                mean_results - std_results,\n",
        "                                mean_results + std_results,\n",
        "                                alpha=0.3)\n",
        "\n",
        "    matplotlib.pyplot.xlabel('Timesteps')\n",
        "    matplotlib.pyplot.ylabel('Mean Reward')\n",
        "    matplotlib.pyplot.title(f\"{ALGO_NAME} Performance on {ENV}\")\n",
        "    matplotlib.pyplot.show()\n",
        "    \n",
        "    # Create Elevation environment\n",
        "\n",
        "    env = make_vec_env(ENV, n_envs=1, seed=0)\n",
        "\n",
        "    # Load the best model\n",
        "    best_model_path = os.path.join(log_dir, \"best_model.zip\")\n",
        "    best_model = ALGORITHM.load(best_model_path, env=env)\n",
        "\n",
        "    mean_reward, std_reward = evaluate_policy(best_model, env, n_eval_episodes=50)\n",
        "    print(f\"Best Model - Mean reward: {mean_reward:.2f} +/- {std_reward:.2f}\")\n",
        "\n",
        "    # Record video of the best model playing Lunar Lander\n",
        "    env = VecVideoRecorder(env, \"./videos/\",\n",
        "                        video_length=TOTAL_TIMESTEPS,\n",
        "                        record_video_trigger=lambda x: x == 0,\n",
        "                        name_prefix=f\"best_model_{ALGO_NAME}_{ENV}\")\n",
        "\n",
        "    obs = env.reset()\n",
        "    for _ in range(10000):\n",
        "        action, _states = best_model.predict(obs)\n",
        "        obs, rewards, dones, info = env.step(action)\n",
        "        env.render()\n",
        "        if dones:        \n",
        "            break\n",
        "\n",
        "    env.close()"
      ]
    },
    {
      "cell_type": "code",
      "execution_count": null,
      "metadata": {},
      "outputs": [],
      "source": []
    },
    {
      "cell_type": "code",
      "execution_count": null,
      "metadata": {},
      "outputs": [],
      "source": []
    },
    {
      "cell_type": "code",
      "execution_count": null,
      "metadata": {},
      "outputs": [],
      "source": []
    },
    {
      "cell_type": "code",
      "execution_count": null,
      "metadata": {},
      "outputs": [],
      "source": []
    }
  ],
  "metadata": {
    "accelerator": "GPU",
    "colab": {
      "gpuType": "T4",
      "include_colab_link": true,
      "provenance": []
    },
    "kernelspec": {
      "display_name": "Python 3",
      "name": "python3"
    },
    "language_info": {
      "codemirror_mode": {
        "name": "ipython",
        "version": 3
      },
      "file_extension": ".py",
      "mimetype": "text/x-python",
      "name": "python",
      "nbconvert_exporter": "python",
      "pygments_lexer": "ipython3",
      "version": "3.11.7"
    },
    "widgets": {
      "application/vnd.jupyter.widget-state+json": {
        "30b92b1b07674e71b357aaba558e4131": {
          "model_module": "@jupyter-widgets/base",
          "model_module_version": "1.2.0",
          "model_name": "LayoutModel",
          "state": {
            "_model_module": "@jupyter-widgets/base",
            "_model_module_version": "1.2.0",
            "_model_name": "LayoutModel",
            "_view_count": null,
            "_view_module": "@jupyter-widgets/base",
            "_view_module_version": "1.2.0",
            "_view_name": "LayoutView",
            "align_content": null,
            "align_items": null,
            "align_self": null,
            "border": null,
            "bottom": null,
            "display": null,
            "flex": null,
            "flex_flow": null,
            "grid_area": null,
            "grid_auto_columns": null,
            "grid_auto_flow": null,
            "grid_auto_rows": null,
            "grid_column": null,
            "grid_gap": null,
            "grid_row": null,
            "grid_template_areas": null,
            "grid_template_columns": null,
            "grid_template_rows": null,
            "height": null,
            "justify_content": null,
            "justify_items": null,
            "left": null,
            "margin": null,
            "max_height": null,
            "max_width": null,
            "min_height": null,
            "min_width": null,
            "object_fit": null,
            "object_position": null,
            "order": null,
            "overflow": null,
            "overflow_x": null,
            "overflow_y": null,
            "padding": null,
            "right": null,
            "top": null,
            "visibility": null,
            "width": null
          }
        },
        "38bc9c8583fd4d5b96c97cb9d6d19cb5": {
          "model_module": "@jupyter-widgets/base",
          "model_module_version": "1.2.0",
          "model_name": "LayoutModel",
          "state": {
            "_model_module": "@jupyter-widgets/base",
            "_model_module_version": "1.2.0",
            "_model_name": "LayoutModel",
            "_view_count": null,
            "_view_module": "@jupyter-widgets/base",
            "_view_module_version": "1.2.0",
            "_view_name": "LayoutView",
            "align_content": null,
            "align_items": null,
            "align_self": null,
            "border": null,
            "bottom": null,
            "display": null,
            "flex": null,
            "flex_flow": null,
            "grid_area": null,
            "grid_auto_columns": null,
            "grid_auto_flow": null,
            "grid_auto_rows": null,
            "grid_column": null,
            "grid_gap": null,
            "grid_row": null,
            "grid_template_areas": null,
            "grid_template_columns": null,
            "grid_template_rows": null,
            "height": null,
            "justify_content": null,
            "justify_items": null,
            "left": null,
            "margin": null,
            "max_height": null,
            "max_width": null,
            "min_height": null,
            "min_width": null,
            "object_fit": null,
            "object_position": null,
            "order": null,
            "overflow": null,
            "overflow_x": null,
            "overflow_y": null,
            "padding": null,
            "right": null,
            "top": null,
            "visibility": null,
            "width": null
          }
        },
        "be01b157979d42879624519e61137e7a": {
          "model_module": "@jupyter-widgets/output",
          "model_module_version": "1.0.0",
          "model_name": "OutputModel",
          "state": {
            "_dom_classes": [],
            "_model_module": "@jupyter-widgets/output",
            "_model_module_version": "1.0.0",
            "_model_name": "OutputModel",
            "_view_count": null,
            "_view_module": "@jupyter-widgets/output",
            "_view_module_version": "1.0.0",
            "_view_name": "OutputView",
            "layout": "IPY_MODEL_38bc9c8583fd4d5b96c97cb9d6d19cb5",
            "msg_id": "",
            "outputs": [
              {
                "data": {
                  "text/html": "<pre style=\"white-space:pre;overflow-x:auto;line-height:normal;font-family:Menlo,'DejaVu Sans Mono',consolas,'Courier New',monospace\"><span style=\"color: #800080; text-decoration-color: #800080\"> 100%</span> <span style=\"color: #729c1f; text-decoration-color: #729c1f\">━━━━━━━━━━━━━━━━━━━━━━━━━━━━━━━━━━━━━━━━━━━━━━━━━━━━━━━━━━━</span> <span style=\"color: #008000; text-decoration-color: #008000\">501,712/500,000 </span> [ <span style=\"color: #808000; text-decoration-color: #808000\">0:35:48</span> &lt; <span style=\"color: #008080; text-decoration-color: #008080\">0:00:00</span> , <span style=\"color: #800000; text-decoration-color: #800000\">258 it/s</span> ]\n</pre>\n",
                  "text/plain": "\u001b[35m 100%\u001b[0m \u001b[38;2;114;156;31m━━━━━━━━━━━━━━━━━━━━━━━━━━━━━━━━━━━━━━━━━━━━━━━━━━━━━━━━━━━\u001b[0m \u001b[32m501,712/500,000 \u001b[0m [ \u001b[33m0:35:48\u001b[0m < \u001b[36m0:00:00\u001b[0m , \u001b[31m258 it/s\u001b[0m ]\n"
                },
                "metadata": {},
                "output_type": "display_data"
              }
            ]
          }
        },
        "bfe70718bcb246328459b2fe73fea682": {
          "model_module": "@jupyter-widgets/output",
          "model_module_version": "1.0.0",
          "model_name": "OutputModel",
          "state": {
            "_dom_classes": [],
            "_model_module": "@jupyter-widgets/output",
            "_model_module_version": "1.0.0",
            "_model_name": "OutputModel",
            "_view_count": null,
            "_view_module": "@jupyter-widgets/output",
            "_view_module_version": "1.0.0",
            "_view_name": "OutputView",
            "layout": "IPY_MODEL_30b92b1b07674e71b357aaba558e4131",
            "msg_id": "",
            "outputs": [
              {
                "data": {
                  "text/html": "<pre style=\"white-space:pre;overflow-x:auto;line-height:normal;font-family:Menlo,'DejaVu Sans Mono',consolas,'Courier New',monospace\"><span style=\"color: #800080; text-decoration-color: #800080\"> 100%</span> <span style=\"color: #729c1f; text-decoration-color: #729c1f\">━━━━━━━━━━━━━━━━━━━━━━━━━━━━━━━━━━━━━━━━━━━━━━━━━━━━━━━━━━━</span> <span style=\"color: #008000; text-decoration-color: #008000\">501,759/500,000 </span> [ <span style=\"color: #808000; text-decoration-color: #808000\">0:47:23</span> &lt; <span style=\"color: #008080; text-decoration-color: #008080\">0:00:00</span> , <span style=\"color: #800000; text-decoration-color: #800000\">270 it/s</span> ]\n</pre>\n",
                  "text/plain": "\u001b[35m 100%\u001b[0m \u001b[38;2;114;156;31m━━━━━━━━━━━━━━━━━━━━━━━━━━━━━━━━━━━━━━━━━━━━━━━━━━━━━━━━━━━\u001b[0m \u001b[32m501,759/500,000 \u001b[0m [ \u001b[33m0:47:23\u001b[0m < \u001b[36m0:00:00\u001b[0m , \u001b[31m270 it/s\u001b[0m ]\n"
                },
                "metadata": {},
                "output_type": "display_data"
              }
            ]
          }
        }
      }
    }
  },
  "nbformat": 4,
  "nbformat_minor": 0
}
